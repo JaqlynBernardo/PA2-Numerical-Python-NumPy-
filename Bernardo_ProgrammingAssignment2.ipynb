{
 "cells": [
  {
   "cell_type": "markdown",
   "id": "05c892b0-0428-4dbb-b906-968ff5bf48b7",
   "metadata": {},
   "source": [
    "# Experiment #2: Numerical Python (NumPy)"
   ]
  },
  {
   "cell_type": "markdown",
   "id": "9180ac07-1d44-413d-b796-d4442db72002",
   "metadata": {},
   "source": [
    "### Problem #1: Normalization Problem"
   ]
  },
  {
   "cell_type": "code",
   "execution_count": 3,
   "id": "efe8dfad-5f1c-4915-8e9a-cdb964c0f155",
   "metadata": {},
   "outputs": [],
   "source": [
    "import numpy as np"
   ]
  },
  {
   "cell_type": "code",
   "execution_count": 12,
   "id": "0a2cdba8-0130-4272-804f-ce2fe5c407f8",
   "metadata": {},
   "outputs": [
    {
     "data": {
      "text/plain": [
       "array([[-1.3274631 ,  1.44955219, -0.65093186, -1.24015547, -1.07381586],\n",
       "       [ 1.18786251,  1.29717136,  1.32980706,  0.21001044,  1.02926689],\n",
       "       [ 0.72733454,  0.33821173, -1.09456486,  1.03222271, -0.12657363],\n",
       "       [-1.04856448, -0.20022859, -0.30698896,  0.96201737, -1.28175046],\n",
       "       [ 0.12410343, -1.00661304, -0.92700785, -0.97911862,  1.57621657]])"
      ]
     },
     "execution_count": 12,
     "metadata": {},
     "output_type": "execute_result"
    }
   ],
   "source": [
    "x = np.random.random((5,5)) # Random Array\n",
    "\n",
    "# Computation\n",
    "mean = x.mean()\n",
    "std = x.std()\n",
    "z = (x - mean)/std # Normalization formula\n",
    "\n",
    "# Save and Load array\n",
    "np.save('X_normalized.npy', z) \n",
    "np.load('X_normalized.npy')"
   ]
  },
  {
   "cell_type": "markdown",
   "id": "d2e8bed7-1eb9-443d-bef3-91793bfc48a7",
   "metadata": {},
   "source": [
    "### Problem #2: Divisible by 3 Problem"
   ]
  },
  {
   "cell_type": "code",
   "execution_count": 23,
   "id": "d1d8a386-78b5-48ba-bfa1-ec2d8b86a7cc",
   "metadata": {},
   "outputs": [
    {
     "data": {
      "text/plain": [
       "array([   9,   36,   81,  144,  225,  324,  441,  576,  729,  900, 1089,\n",
       "       1296, 1521, 1764, 2025, 2304, 2601, 2916, 3249, 3600, 3969, 4356,\n",
       "       4761, 5184, 5625, 6084, 6561, 7056, 7569, 8100, 8649, 9216, 9801])"
      ]
     },
     "execution_count": 23,
     "metadata": {},
     "output_type": "execute_result"
    }
   ],
   "source": [
    "# Array with the squares of the first 100 natural numbers \n",
    "num_list = list(range(1,101)) # list of first 100 natural numbers\n",
    "num_array = np.square(num_list)\n",
    "A = num_array.reshape(10,10)\n",
    "\n",
    "# Numbers divisible by 3\n",
    "div_by_3 = []\n",
    "for x in A.flatten():\n",
    "    if x%3 == 0:\n",
    "        div_by_3.append(int(x))\n",
    "\n",
    "# Save and Load array\n",
    "np.save('div_by_3.npy', div_by_3) \n",
    "np.load('div_by_3.npy')"
   ]
  },
  {
   "cell_type": "code",
   "execution_count": null,
   "id": "3c7c4c56-5565-4fdf-9389-24fa6962b661",
   "metadata": {},
   "outputs": [],
   "source": []
  }
 ],
 "metadata": {
  "kernelspec": {
   "display_name": "Python [conda env:base] *",
   "language": "python",
   "name": "conda-base-py"
  },
  "language_info": {
   "codemirror_mode": {
    "name": "ipython",
    "version": 3
   },
   "file_extension": ".py",
   "mimetype": "text/x-python",
   "name": "python",
   "nbconvert_exporter": "python",
   "pygments_lexer": "ipython3",
   "version": "3.13.5"
  }
 },
 "nbformat": 4,
 "nbformat_minor": 5
}
